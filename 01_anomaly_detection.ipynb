{
  "cells": [
    {
      "cell_type": "markdown",
      "id": "Do13ggNDbu64",
      "metadata": {
        "id": "Do13ggNDbu64"
      },
      "source": [
        "<p style=\"display:flex; align-items:center;\">\n",
        "  <img src=\"https://upload.wikimedia.org/wikipedia/it/1/11/Napoli_university_seal_alfachannel.png\"\n",
        "       alt=\"Logo UNINA\" width=\"10%\" style=\"margin-right:2%;\">\n",
        "  <img src=\"https://indico.unina.it/event/58/attachments/172/352/logo_dieti.png\"\n",
        "       alt=\"Logo DIETI\" width=\"10%\">\n",
        "</p>\n",
        "\n",
        "\n",
        "# Guided-Supervised Anomaly Detection using Machine Learning, Deep Learning, and Generative AI\n",
        "\n",
        "---\n",
        "\n",
        "***Practical Network Intrusion Detection with Machine Learning and Generative AI***\n",
        "\n",
        "Prof. Giampaolo Bovenzi\n"
      ]
    },
    {
      "cell_type": "code",
      "execution_count": 1,
      "id": "04843e03",
      "metadata": {
        "id": "04843e03",
        "outputId": "c8e7b261-cd7a-434f-b8b8-93bb110bac4e",
        "colab": {
          "base_uri": "https://localhost:8080/"
        }
      },
      "outputs": [
        {
          "output_type": "stream",
          "name": "stdout",
          "text": [
            "Setup OK in /content/practical-nids\n"
          ]
        }
      ],
      "source": [
        "# Colab bootstrap\n",
        "import os, sys, subprocess, importlib, pathlib\n",
        "\n",
        "REPO_URL = \"https://github.com/jmpr0/practical-nids\"\n",
        "REPO_DIR = \"/content/practical-nids\"\n",
        "\n",
        "if not pathlib.Path(REPO_DIR).exists():\n",
        "    subprocess.run([\"git\", \"clone\", REPO_URL, REPO_DIR], check=True)\n",
        "\n",
        "os.chdir(REPO_DIR)\n",
        "\n",
        "# Install deps\n",
        "subprocess.run([sys.executable, \"-m\", \"pip\", \"install\", \"-r\", \"requirements.txt\", \"--quiet\"], check=True)\n",
        "\n",
        "# Create outputs dirs\n",
        "for d in [\"outputs\", \"data/cache\", \"models\"]:\n",
        "    pathlib.Path(d).mkdir(parents=True, exist_ok=True)\n",
        "\n",
        "print(\"Setup OK in\", os.getcwd())\n"
      ]
    },
    {
      "cell_type": "markdown",
      "id": "50edbed4",
      "metadata": {
        "id": "50edbed4"
      },
      "source": [
        "## Data Loader Module\n",
        "This module handles loading and preprocessing of datasets for anomaly detection."
      ]
    },
    {
      "cell_type": "code",
      "execution_count": null,
      "id": "4a65ddb8",
      "metadata": {
        "id": "4a65ddb8"
      },
      "outputs": [],
      "source": [
        "import os\n",
        "import numpy as np\n",
        "import pandas as pd\n",
        "from sklearn.model_selection import train_test_split, StratifiedKFold\n",
        "from sklearn.preprocessing import MinMaxScaler, OrdinalEncoder, LabelEncoder\n",
        "from functools import partial\n",
        "import scipy.stats\n",
        "from statsmodels import robust\n",
        "from tqdm import tqdm\n",
        "from glob import glob\n",
        "\n",
        "# Data Loading\n",
        "def load_data(dataset_name='kdd', num_packets=20, seed=0, validation_split=0.1):\n",
        "\n",
        "  if dataset_name == 'kdd':\n",
        "\n",
        "    train_fn = os.path.join(data_dir, 'NSL-KDD/KDDTrain+.txt')\n",
        "    test_fn = os.path.join(data_dir, 'NSL-KDD/KDDTest+.txt')\n",
        "    df_train = pd.read_csv(train_fn, header=None)\n",
        "    df_test = pd.read_csv(test_fn, header=None)\n",
        "\n",
        "    X_train, y_train = df_train.iloc[:, :-2].to_numpy(), df_train.iloc[:, -2].to_numpy()\n",
        "    X_test, y_test = df_test.iloc[:, :-2].to_numpy(), df_test.iloc[:, -2].to_numpy()\n",
        "\n",
        "  elif dataset_name == 'iot-23':\n",
        "\n",
        "    base_path = os.path.join(data_dir, 'IoT-23')\n",
        "    path = os.path.join(base_path, f'iot23-stats_{num_packets}-pkts.parquet')\n",
        "\n",
        "    df = pd.read_parquet(path)\n",
        "    X, y = df.iloc[:, :-1].to_numpy(), df.iloc[:, -1].to_numpy()\n",
        "\n",
        "    X_train, X_test, y_train, y_test = train_test_split(X, y, test_size=0.3, stratify=y, random_state=seed)\n",
        "\n",
        "  X_val, y_val = None, None\n",
        "  if validation_split:\n",
        "    X_train, X_val, y_train, y_val = train_test_split(X_train, y_train, test_size=validation_split, stratify=y_train, random_state=seed)\n",
        "\n",
        "  return X_train, y_train, X_test, y_test, X_val, y_val\n",
        "\n",
        "# Data Preprocessing\n",
        "def preprocess_data(X_train, y_train, X_test, y_test, X_val=None, y_val=None, dataset_name='kdd'):\n",
        "\n",
        "  if dataset_name == 'kdd':\n",
        "\n",
        "    cat_indexes = [i for i, v in enumerate(X_train[0]) if isinstance(v, str)]\n",
        "    for cat_index in cat_indexes:\n",
        "      oe = OrdinalEncoder()\n",
        "      X_train[:, cat_index] = oe.fit_transform(X_train[:, cat_index].reshape(-1, 1)).squeeze()\n",
        "      if X_val is not None:\n",
        "        X_val[:, cat_index] = oe.transform(X_val[:, cat_index].reshape(-1, 1)).squeeze()\n",
        "      X_test[:, cat_index] = oe.transform(X_test[:, cat_index].reshape(-1, 1)).squeeze()\n",
        "    legitimate_class = 'normal'\n",
        "\n",
        "  else:  # dataset_name == 'iot-23'\n",
        "\n",
        "    legitimate_class = 'Benign'\n",
        "\n",
        "  # Normalize features\n",
        "  scaler = MinMaxScaler(feature_range=(0, 1))\n",
        "  X_train = scaler.fit_transform(X_train)\n",
        "  X_test = scaler.transform(X_test)\n",
        "  if X_val is not None:\n",
        "    X_val = scaler.transform(X_val)\n",
        "\n",
        "  # Encode labels\n",
        "  label_encoder = LabelEncoder().fit(np.concatenate((y_train, y_test)))\n",
        "  y_train = label_encoder.transform(y_train)\n",
        "  y_test = label_encoder.transform(y_test)\n",
        "  if y_val is not None:\n",
        "    y_val = label_encoder.transform(y_val)\n",
        "\n",
        "  encoded_legit_class = label_encoder.transform([legitimate_class])[0]\n",
        "\n",
        "  return X_train, y_train, X_test, y_test, X_val, y_val, encoded_legit_class\n"
      ]
    },
    {
      "cell_type": "markdown",
      "id": "901fadfe",
      "metadata": {
        "id": "901fadfe"
      },
      "source": [
        "## Utils Module\n",
        "This module contains utility functions and callbacks to assist with training."
      ]
    },
    {
      "cell_type": "code",
      "execution_count": null,
      "id": "88ae7946",
      "metadata": {
        "id": "88ae7946"
      },
      "outputs": [],
      "source": [
        "from time import process_time\n",
        "from tensorflow.keras.callbacks import Callback\n",
        "\n",
        "class TimeEpochs(Callback):\n",
        "  \"\"\"Callback to measure per-epoch training time.\"\"\"\n",
        "\n",
        "  def __init__(self):\n",
        "    super().__init__()\n",
        "    self.epoch_time_start = None\n",
        "\n",
        "  def on_epoch_begin(self, epoch, logs=None):\n",
        "    self.epoch_time_start = process_time()\n",
        "\n",
        "  def on_epoch_end(self, epoch, logs=None):\n",
        "    if logs is not None:\n",
        "      logs['time'] = process_time() - self.epoch_time_start\n"
      ]
    },
    {
      "cell_type": "markdown",
      "id": "25f8c33f",
      "metadata": {
        "id": "25f8c33f"
      },
      "source": [
        "## Plotting Module\n",
        "This module provides visualization functions to assess model performance."
      ]
    },
    {
      "cell_type": "code",
      "execution_count": null,
      "id": "0ab35b0c",
      "metadata": {
        "id": "0ab35b0c"
      },
      "outputs": [],
      "source": [
        "import matplotlib.pyplot as plt\n",
        "from sklearn.metrics import roc_curve\n",
        "\n",
        "def plot_roc(y_true, y_score, savefig=None, show=True, dpi=300, colors=('firebrick', 'black')):\n",
        "  \"\"\"\n",
        "  Plots the ROC curve.\n",
        "\n",
        "  Parameters:\n",
        "  - y_true: array-like, ground truth binary labels.\n",
        "  - y_score: array-like, predicted scores or probabilities.\n",
        "  - savefig: str or None, base filename to save the figure (without extension).\n",
        "  - show: bool, whether to display the plot (default: True).\n",
        "  - dpi: int, resolution for saving the figure (default: 300).\n",
        "  - colors: tuple, (ROC curve color, diagonal line color).\n",
        "  \"\"\"\n",
        "\n",
        "  fpr, tpr, _ = roc_curve(y_true, y_score)\n",
        "\n",
        "  fig, ax = plt.subplots(figsize=(5, 3))\n",
        "  ax.plot(fpr, tpr, color=colors[0], label=\"ROC Curve\", zorder=4, clip_on=False)\n",
        "  ax.plot([0, 1], [0, 1], color=colors[1], linestyle='--', label=\"Random Guess\", zorder=3)\n",
        "\n",
        "  ax.set_xlim([0, 1])\n",
        "  ax.set_ylim([0, 1])\n",
        "  ax.set_xlabel('False Positive Rate (FPR)')\n",
        "  ax.set_ylabel('True Positive Rate (TPR)')\n",
        "  ax.legend()\n",
        "  plt.tight_layout()\n",
        "\n",
        "  # Save figure in multiple formats if savefig is provided\n",
        "  if savefig:\n",
        "    for ext in ['pdf', 'png']:\n",
        "      plt.savefig(f\"{savefig}.{ext}\", dpi=dpi, bbox_inches='tight')\n",
        "\n",
        "  # Show the plot if enabled\n",
        "  if show:\n",
        "    plt.show()\n",
        "\n",
        "  plt.close(fig)  # Prevents memory leaks in long-running scripts\n"
      ]
    },
    {
      "cell_type": "markdown",
      "id": "3e6e8e72",
      "metadata": {
        "id": "3e6e8e72"
      },
      "source": [
        "## Disk Logger Module\n",
        "This module manages logging of results and outputs to disk."
      ]
    },
    {
      "cell_type": "code",
      "execution_count": null,
      "id": "2816ef35",
      "metadata": {
        "id": "2816ef35"
      },
      "outputs": [],
      "source": [
        "import json\n",
        "import sys\n",
        "import os\n",
        "\n",
        "class FileOutputDuplicator:\n",
        "  \"\"\"A class that duplicates stdout/stderr output to a file.\"\"\"\n",
        "\n",
        "  def __init__(self, duplicate, fname, mode='w'):\n",
        "    self.file = open(fname, mode)\n",
        "    self.duplicate = duplicate\n",
        "\n",
        "  def __del__(self):\n",
        "    \"\"\"Ensure the file is closed properly when the object is destroyed.\"\"\"\n",
        "    if self.file and not self.file.closed:\n",
        "      self.file.close()\n",
        "\n",
        "  def write(self, data):\n",
        "    \"\"\"Write data to both file and duplicate stream.\"\"\"\n",
        "    self.file.write(data)\n",
        "    self.duplicate.write(data)\n",
        "    self.flush()\n",
        "\n",
        "  def flush(self):\n",
        "    \"\"\"Flush both file and duplicate output stream.\"\"\"\n",
        "    self.file.flush()\n",
        "    self.duplicate.flush()\n",
        "\n",
        "class DiskLogger:\n",
        "  \"\"\"Handles logging to disk, including argument saving and stdout/stderr redirection.\"\"\"\n",
        "\n",
        "  def __init__(self, results_path):\n",
        "    \"\"\"Initialize with the results path where logs will be stored.\"\"\"\n",
        "    self.results_path = results_path\n",
        "    os.makedirs(results_path, exist_ok=True)\n",
        "\n",
        "  def log_args(self, args, filename='args.log'):\n",
        "    \"\"\"Save experiment arguments to a JSON file.\"\"\"\n",
        "    log_path = os.path.join(self.results_path, filename)\n",
        "    try:\n",
        "      with open(log_path, 'w') as f:\n",
        "        json.dump(args, f, indent=2)\n",
        "    except Exception as e:\n",
        "      print(f\"Error saving args log: {e}\", file=sys.stderr)\n",
        "\n",
        "  def log_stdout(self, filename='stdout.log'):\n",
        "    \"\"\"Redirect stdout to a file while maintaining console output.\"\"\"\n",
        "    sys.stdout = FileOutputDuplicator(sys.stdout, os.path.join(self.results_path, filename))\n",
        "\n",
        "  def log_stderr(self, filename='stderr.log'):\n",
        "    \"\"\"Redirect stderr to a file while maintaining console output.\"\"\"\n",
        "    sys.stderr = FileOutputDuplicator(sys.stderr, os.path.join(self.results_path, filename))\n"
      ]
    },
    {
      "cell_type": "markdown",
      "id": "d8c251e6",
      "metadata": {
        "id": "d8c251e6"
      },
      "source": [
        "## Detector Base Class\n",
        "This base class defines a common interface for all anomaly detectors."
      ]
    },
    {
      "cell_type": "code",
      "execution_count": null,
      "id": "882502c6",
      "metadata": {
        "id": "882502c6"
      },
      "outputs": [],
      "source": [
        "import numpy as np\n",
        "import tensorflow as tf\n",
        "from tensorflow.keras.models import Model\n",
        "\n",
        "class Detector:\n",
        "  \"\"\"A general anomaly detector using TensorFlow/Keras models.\"\"\"\n",
        "\n",
        "  def __init__(self):\n",
        "    self.model = None\n",
        "\n",
        "  def compile(self, **kwargs):\n",
        "    \"\"\"Compile the Keras model with the given optimizer and loss function.\"\"\"\n",
        "    if self.model:\n",
        "      self.model.compile(**kwargs)\n",
        "\n",
        "  def fit(self, X, y, **kwargs):\n",
        "    \"\"\"Train the model with input features X and target y.\"\"\"\n",
        "    if self.model:\n",
        "      self.model.fit(X, y, **kwargs)\n",
        "\n",
        "  def predict(self, X, **kwargs):\n",
        "    \"\"\"Generate predictions from the trained model.\"\"\"\n",
        "    return self.model.predict(X, **kwargs) if self.model else None\n",
        "\n",
        "  def score(self, X, **kwargs):\n",
        "    \"\"\"Calculate the root mean squared error (RMSE) as an anomaly score.\"\"\"\n",
        "    X_pred = self.predict(X, **kwargs)\n",
        "    if X_pred is not None:\n",
        "      return np.sqrt(np.mean((X - X_pred) ** 2, axis=1))  # Vectorized RMSE\n",
        "    return None\n",
        "\n",
        "  def print_summary(self):\n",
        "    \"\"\"Prints the model architecture summary.\"\"\"\n",
        "    if self.model:\n",
        "      self.model.summary()\n"
      ]
    },
    {
      "cell_type": "markdown",
      "id": "03d8938b",
      "metadata": {
        "id": "03d8938b"
      },
      "source": [
        "## Shallow Autoencoder (AE)\n",
        "This is a simple autoencoder used for anomaly detection."
      ]
    },
    {
      "cell_type": "code",
      "execution_count": null,
      "id": "921d2b35",
      "metadata": {
        "id": "921d2b35"
      },
      "outputs": [],
      "source": [
        "import numpy as np\n",
        "import tensorflow as tf\n",
        "from tensorflow.keras.layers import Input, Dense, Dropout\n",
        "from tensorflow.keras.models import Model\n",
        "\n",
        "\n",
        "class AE(Detector):\n",
        "  def __init__(self, input_size, red_fact=0.5, encoder_activation='relu', decoder_activation='sigmoid'):\n",
        "    \"\"\"Creates an Autoencoder model inside the Detector class.\n",
        "\n",
        "    Parameters:\n",
        "    - input_size (int): Number of input features.\n",
        "    - red_fact (float): Reduction factor for encoding layer size (default: 0.5).\n",
        "    - encoder_activation (str): Activation function for encoder layer (default: 'relu').\n",
        "    - decoder_activation (str): Activation function for decoder layer (default: 'sigmoid').\n",
        "    \"\"\"\n",
        "    super().__init__()\n",
        "\n",
        "    reduced_size = int(np.ceil(input_size * red_fact))\n",
        "\n",
        "    # Define autoencoder architecture\n",
        "    inputs = Input(shape=(input_size,))\n",
        "    encoded = Dense(reduced_size, activation=encoder_activation)(inputs)\n",
        "    encoded = Dropout(0.2)(encoded)\n",
        "    decoded = Dense(input_size, activation=decoder_activation)(encoded)\n",
        "\n",
        "    # Assign model to self.model\n",
        "    self.model = Model(inputs, decoded)\n"
      ]
    },
    {
      "cell_type": "markdown",
      "id": "ecf26d65",
      "metadata": {
        "id": "ecf26d65"
      },
      "source": [
        "## Deep Autoencoder (DeepAE)\n",
        "This is a deep autoencoder for better feature extraction in anomaly detection."
      ]
    },
    {
      "cell_type": "code",
      "execution_count": null,
      "id": "afe2382c",
      "metadata": {
        "id": "afe2382c"
      },
      "outputs": [],
      "source": [
        "import numpy as np\n",
        "import tensorflow as tf\n",
        "from tensorflow.keras.layers import Input, Dense, Dropout\n",
        "from tensorflow.keras.models import Model\n",
        "\n",
        "class DAE(Detector):\n",
        "  def __init__(self, input_size, red_fact=[0.75, 0.5], encoder_activation='relu', decoder_activation='relu', final_activation='sigmoid'):\n",
        "    \"\"\"Creates a Deep Autoencoder inside the Detector class.\n",
        "\n",
        "    Parameters:\n",
        "    - input_size (int): Number of input features.\n",
        "    - red_fact (list of float): List of reduction factors for encoder layers.\n",
        "    - encoder_activation (str): Activation function for encoder layers (default: 'relu').\n",
        "    - decoder_activation (str): Activation function for decoder layers (default: 'relu').\n",
        "    - final_activation (str): Activation function for the final decoder layer (default: 'sigmoid').\n",
        "    \"\"\"\n",
        "    super().__init__()\n",
        "\n",
        "    # Compute encoder and decoder sizes\n",
        "    encoder_sizes = [int(np.ceil(input_size * rf)) for rf in red_fact]\n",
        "    decoder_sizes = encoder_sizes[::-1][1:]  # Exclude the last encoder size\n",
        "\n",
        "    # Define encoder layers\n",
        "    inputs = Input(shape=(input_size,))\n",
        "    x = inputs\n",
        "    for size in encoder_sizes:\n",
        "      x = Dense(size, activation=encoder_activation)(x)\n",
        "\n",
        "    # Define decoder layers\n",
        "    for size in decoder_sizes:\n",
        "      x = Dense(size, activation=decoder_activation)(x)\n",
        "\n",
        "    # Final output layer\n",
        "    x = Dropout(0.2)(x)\n",
        "    outputs = Dense(input_size, activation=final_activation)(x)\n",
        "\n",
        "    self.model = Model(inputs, outputs)\n"
      ]
    },
    {
      "cell_type": "markdown",
      "id": "52ee2f3b",
      "metadata": {
        "id": "52ee2f3b"
      },
      "source": [
        "## KitNET Anomaly Detector\n",
        "This is the KitNET anomaly detection model, which is an ensemble of shallow autoencoders."
      ]
    },
    {
      "cell_type": "code",
      "execution_count": null,
      "id": "88e20089",
      "metadata": {
        "id": "88e20089"
      },
      "outputs": [],
      "source": [
        "import numpy as np\n",
        "from tensorflow.keras.models import Model\n",
        "\n",
        "class KitNET(Detector):\n",
        "  def __init__(self, input_size, k=5):\n",
        "    \"\"\"Creates a KitNET anomaly detection model with multiple autoencoders.\"\"\"\n",
        "    super().__init__()\n",
        "\n",
        "    self.k = k\n",
        "\n",
        "    # Determine input sizes for each ensemble autoencoder\n",
        "    base_size = input_size // k\n",
        "    self.input_sizes = [base_size + (1 if i < input_size % k else 0) for i in range(k)]\n",
        "\n",
        "    # Precompute feature indices using NumPy\n",
        "    self.splits = np.cumsum(self.input_sizes)[:-1]\n",
        "\n",
        "    # Initialize autoencoder ensemble and output autoencoder\n",
        "    self.ensemble = [AE(size) for size in self.input_sizes]\n",
        "    self.output = AE(self.k)\n",
        "\n",
        "  def compile(self, **kwargs):\n",
        "    \"\"\"Compile all autoencoders.\"\"\"\n",
        "    for ae in self.ensemble:\n",
        "      ae.compile(**kwargs)\n",
        "    self.output.compile(**kwargs)\n",
        "\n",
        "  def fit(self, X, y, **kwargs):\n",
        "    \"\"\"Train all ensemble autoencoders and the final output autoencoder.\"\"\"\n",
        "    verbose = kwargs.get('verbose', False)\n",
        "    X_splits = np.split(X, self.splits, axis=1)\n",
        "    y_splits = np.split(y, self.splits, axis=1)\n",
        "    y_score = np.zeros((X.shape[0], self.k))\n",
        "\n",
        "    filenames_per_callback = {}\n",
        "\n",
        "    for i, (X_sub, y_sub, ae) in enumerate(zip(X_splits, y_splits, self.ensemble)):\n",
        "      if verbose:\n",
        "        print(f'Training autoencoder {i + 1} / {self.k}...')\n",
        "\n",
        "      # Modify callback filenames if applicable\n",
        "      for callback in kwargs.get('callbacks', []):\n",
        "        if hasattr(callback, 'filename') and isinstance(callback.filename, str):\n",
        "          filename = filenames_per_callback.setdefault(callback.__class__.__name__, callback.filename)\n",
        "          callback.filename = filename.replace('.csv', f'_{i}.csv')\n",
        "\n",
        "      ae.fit(X_sub, y_sub, **kwargs)\n",
        "\n",
        "      if verbose:\n",
        "        print(f'Inferring autoencoder {i + 1} / {self.k}...')\n",
        "\n",
        "      y_score[:, i] = ae.score(X_sub)\n",
        "\n",
        "    if verbose:\n",
        "      print('Training output autoencoder...')\n",
        "\n",
        "    # Normalize and train the final output autoencoder\n",
        "    y_score /= np.sum(y_score, axis=1, keepdims=True)\n",
        "    self.output.fit(y_score, y_score, **kwargs)\n",
        "\n",
        "  def score(self, X, **kwargs):\n",
        "    \"\"\"Compute anomaly scores using ensemble autoencoders and output autoencoder.\"\"\"\n",
        "    verbose = kwargs.get('verbose', False)\n",
        "    X_splits = np.split(X, self.splits, axis=1)\n",
        "    y_score = np.zeros((X.shape[0], self.k))\n",
        "\n",
        "    for i, (X_sub, ae) in enumerate(zip(X_splits, self.ensemble)):\n",
        "      if verbose:\n",
        "        print(f'Inferring autoencoder {i + 1} / {self.k}...')\n",
        "\n",
        "      y_score[:, i] = ae.score(X_sub)\n",
        "\n",
        "    if verbose:\n",
        "      print('Inferring output autoencoder...')\n",
        "\n",
        "    y_score /= np.sum(y_score, axis=1, keepdims=True)\n",
        "    return self.output.score(y_score, **kwargs)\n",
        "\n",
        "  def print_summary(self):\n",
        "    \"\"\"Print summaries for all autoencoders.\"\"\"\n",
        "    for ae in self.ensemble:\n",
        "      ae.print_summary()\n",
        "    self.output.print_summary()\n"
      ]
    },
    {
      "cell_type": "markdown",
      "id": "b42d4bf9",
      "metadata": {
        "id": "b42d4bf9"
      },
      "source": [
        "# Anomaly Detection via Deep Learning"
      ]
    },
    {
      "cell_type": "code",
      "execution_count": null,
      "id": "G0Tf6YKTE5jc",
      "metadata": {
        "colab": {
          "base_uri": "https://localhost:8080/"
        },
        "collapsed": true,
        "id": "G0Tf6YKTE5jc",
        "outputId": "d64a4a40-b0fa-4130-f467-3dfcc364a3e2"
      },
      "outputs": [
        {
          "name": "stdout",
          "output_type": "stream",
          "text": [
            "Requirement already satisfied: livelossplot in /home/jmpr/miniconda3/envs/ntg/lib/python3.10/site-packages (0.5.6)\n",
            "Requirement already satisfied: matplotlib in /home/jmpr/miniconda3/envs/ntg/lib/python3.10/site-packages (from livelossplot) (3.8.2)\n",
            "Requirement already satisfied: bokeh in /home/jmpr/miniconda3/envs/ntg/lib/python3.10/site-packages (from livelossplot) (3.8.0)\n",
            "Requirement already satisfied: Jinja2>=2.9 in /home/jmpr/miniconda3/envs/ntg/lib/python3.10/site-packages (from bokeh->livelossplot) (3.1.2)\n",
            "Requirement already satisfied: contourpy>=1.2 in /home/jmpr/miniconda3/envs/ntg/lib/python3.10/site-packages (from bokeh->livelossplot) (1.3.2)\n",
            "Requirement already satisfied: narwhals>=1.13 in /home/jmpr/miniconda3/envs/ntg/lib/python3.10/site-packages (from bokeh->livelossplot) (2.7.0)\n",
            "Requirement already satisfied: numpy>=1.16 in /home/jmpr/miniconda3/envs/ntg/lib/python3.10/site-packages (from bokeh->livelossplot) (1.24.4)\n",
            "Requirement already satisfied: packaging>=16.8 in /home/jmpr/miniconda3/envs/ntg/lib/python3.10/site-packages (from bokeh->livelossplot) (23.2)\n",
            "Requirement already satisfied: pandas>=1.2 in /home/jmpr/miniconda3/envs/ntg/lib/python3.10/site-packages (from bokeh->livelossplot) (2.1.4)\n",
            "Requirement already satisfied: pillow>=7.1.0 in /home/jmpr/miniconda3/envs/ntg/lib/python3.10/site-packages (from bokeh->livelossplot) (10.0.1)\n",
            "Requirement already satisfied: PyYAML>=3.10 in /home/jmpr/miniconda3/envs/ntg/lib/python3.10/site-packages (from bokeh->livelossplot) (6.0.1)\n",
            "Requirement already satisfied: tornado>=6.2 in /home/jmpr/miniconda3/envs/ntg/lib/python3.10/site-packages (from bokeh->livelossplot) (6.3.3)\n",
            "Requirement already satisfied: xyzservices>=2021.09.1 in /home/jmpr/miniconda3/envs/ntg/lib/python3.10/site-packages (from bokeh->livelossplot) (2025.4.0)\n",
            "Requirement already satisfied: cycler>=0.10 in /home/jmpr/miniconda3/envs/ntg/lib/python3.10/site-packages (from matplotlib->livelossplot) (0.12.0)\n",
            "Requirement already satisfied: fonttools>=4.22.0 in /home/jmpr/miniconda3/envs/ntg/lib/python3.10/site-packages (from matplotlib->livelossplot) (4.43.0)\n",
            "Requirement already satisfied: kiwisolver>=1.3.1 in /home/jmpr/miniconda3/envs/ntg/lib/python3.10/site-packages (from matplotlib->livelossplot) (1.4.5)\n",
            "Requirement already satisfied: pyparsing>=2.3.1 in /home/jmpr/miniconda3/envs/ntg/lib/python3.10/site-packages (from matplotlib->livelossplot) (3.1.1)\n",
            "Requirement already satisfied: python-dateutil>=2.7 in /home/jmpr/miniconda3/envs/ntg/lib/python3.10/site-packages (from matplotlib->livelossplot) (2.8.2)\n",
            "Requirement already satisfied: MarkupSafe>=2.0 in /home/jmpr/miniconda3/envs/ntg/lib/python3.10/site-packages (from Jinja2>=2.9->bokeh->livelossplot) (2.1.3)\n",
            "Requirement already satisfied: pytz>=2020.1 in /home/jmpr/miniconda3/envs/ntg/lib/python3.10/site-packages (from pandas>=1.2->bokeh->livelossplot) (2023.3.post1)\n",
            "Requirement already satisfied: tzdata>=2022.1 in /home/jmpr/miniconda3/envs/ntg/lib/python3.10/site-packages (from pandas>=1.2->bokeh->livelossplot) (2023.3)\n",
            "Requirement already satisfied: six>=1.5 in /home/jmpr/miniconda3/envs/ntg/lib/python3.10/site-packages (from python-dateutil>=2.7->matplotlib->livelossplot) (1.16.0)\n"
          ]
        }
      ],
      "source": [
        "!pip install livelossplot"
      ]
    },
    {
      "cell_type": "code",
      "execution_count": null,
      "id": "a6b433a3",
      "metadata": {
        "id": "a6b433a3"
      },
      "outputs": [],
      "source": [
        "from time import time\n",
        "from tensorflow.keras.callbacks import EarlyStopping, CSVLogger\n",
        "from livelossplot.tf_keras import PlotLossesCallback\n"
      ]
    },
    {
      "cell_type": "code",
      "execution_count": null,
      "id": "R4OCotTVEum-",
      "metadata": {
        "id": "R4OCotTVEum-"
      },
      "outputs": [],
      "source": [
        "import random\n",
        "import numpy as np\n",
        "import tensorflow as tf\n",
        "import os\n",
        "\n",
        "seed = 42\n",
        "\n",
        "# Set Python's built-in random seed\n",
        "random.seed(seed)\n",
        "# Set NumPy seed\n",
        "np.random.seed(seed)\n",
        "# Set TensorFlow seed\n",
        "tf.random.set_seed(seed)\n",
        "\n",
        "# Ensure TensorFlow uses deterministic operations (for GPU computations)\n",
        "os.environ[\"PYTHONHASHSEED\"] = str(seed)  # Fix hash-based randomness\n",
        "os.environ[\"TF_DETERMINISTIC_OPS\"] = \"1\"  # Force deterministic operations\n",
        "os.environ[\"TF_CUDNN_DETERMINISTIC\"] = \"1\"  # Use deterministic cuDNN algorithms\n"
      ]
    },
    {
      "cell_type": "code",
      "execution_count": null,
      "id": "f8426a03",
      "metadata": {
        "id": "f8426a03"
      },
      "outputs": [],
      "source": [
        "import os\n",
        "from time import time\n",
        "\n",
        "# Set training parameters (previously argparse arguments)\n",
        "model_name = 'deepautoencoder'     # Model choice\n",
        "model_class = DAE               # Model class\n",
        "noise_std = 0.0           # Noise standard deviation for training robustness\n",
        "batch_size = 128          # Batch size for training\n",
        "epochs = 10               # Number of training epochs\n",
        "validation_split = 0.1    # Fraction of training data used for validation\n",
        "patience = 5              # Early stopping patience (number of epochs without improvement)\n",
        "results_path = './results'  # Base directory to save results\n",
        "dataset_name = 'kdd'      # Name of the dataset (i.e., 'kdd' and 'iot-23)\n",
        "\n",
        "# Generate a timestamped results directory for experiment tracking\n",
        "timestamp = f\"{model_name}_{int(time())}\"\n",
        "results_path = os.path.join(results_path, timestamp)\n",
        "\n",
        "# Create the results directory if it does not exist\n",
        "os.makedirs(results_path, exist_ok=True)\n"
      ]
    },
    {
      "cell_type": "code",
      "execution_count": null,
      "id": "d4ecc927",
      "metadata": {
        "id": "d4ecc927"
      },
      "outputs": [],
      "source": [
        "# Initialize the disk logger to save experiment details\n",
        "logger = DiskLogger(results_path)\n",
        "\n",
        "# Log experiment hyperparameters and configurations\n",
        "experiment_config = {\n",
        "    'model_name': model_name,           # Name of the selected model\n",
        "    'noise_std': noise_std,             # Standard deviation of noise added to training data\n",
        "    'batch_size': batch_size,           # Batch size for training\n",
        "    'epochs': epochs,                   # Total number of training epochs\n",
        "    'validation_split': validation_split,  # Fraction of training data used for validation\n",
        "    'patience': patience,               # Patience for early stopping\n",
        "    'results_path': results_path        # Path where logs and results will be saved\n",
        "}\n",
        "\n",
        "logger.log_args(experiment_config)\n"
      ]
    },
    {
      "cell_type": "code",
      "execution_count": null,
      "id": "1bfa429f",
      "metadata": {
        "colab": {
          "base_uri": "https://localhost:8080/"
        },
        "id": "1bfa429f",
        "outputId": "51f2b48f-4115-47e5-829d-825637d8b8f6"
      },
      "outputs": [
        {
          "name": "stdout",
          "output_type": "stream",
          "text": [
            "Loading data...\n",
            "Processing data...\n",
            "Train info: (array([ 1,  2,  3,  4,  6,  7,  8,  9, 12, 14, 15, 16, 17, 18, 19, 20, 23,\n",
            "       25, 27, 30, 32, 34, 35]), array([  860,    27,     7,    48,    10,  3239,    16,     8,     6,\n",
            "       37092,  1344, 60608,     3,     4,   181,  2638,     9,  3270,\n",
            "        2381,     2,   803,   801,    18]))\n",
            "Test info: (array([ 0,  1,  2,  3,  4,  5,  6,  7,  8,  9, 10, 11, 12, 13, 14, 15, 16,\n",
            "       17, 18, 19, 20, 21, 22, 23, 24, 25, 26, 27, 28, 29, 31, 32, 33, 35,\n",
            "       36, 37, 38, 39]), array([ 737,  359,   20,    3, 1231,  133,    1,  141,    7,    2,  293,\n",
            "        996,   18,   17, 4657,   73, 9711,    2,    2,   41,  157,  685,\n",
            "         15,   13,  319,  735,   14,  665,  178,  331,    2,   12,    2,\n",
            "        944,    2,    9,    4,   13]))\n"
          ]
        }
      ],
      "source": [
        "# Load the dataset and preprocess it\n",
        "print(\"Loading data...\")\n",
        "X_train, y_train, X_test, y_test, X_val, y_val = load_data(\n",
        "    dataset_name=dataset_name, validation_split=validation_split)\n",
        "\n",
        "print(\"Processing data...\")\n",
        "X_train, y_train, X_test, y_test, X_val, y_val, encoded_legit_class = preprocess_data(\n",
        "    X_train, y_train, X_test, y_test, X_val, y_val,\n",
        "    dataset_name=dataset_name\n",
        ")\n",
        "\n",
        "# Filter out only the \"normal\" data points for training\n",
        "# This ensures the model learns from legitimate (non-anomalous) data\n",
        "X_train = X_train[np.where(y_train == encoded_legit_class)]\n",
        "if X_val is not None:\n",
        "  X_val = X_val[np.where(y_val == encoded_legit_class)]\n",
        "\n",
        "# Introduce noise to the training data (if applicable)\n",
        "# This helps with robustness and generalization in anomaly detection\n",
        "X_train_noise = np.random.normal(0, noise_std, X_train.shape)\n",
        "\n",
        "# Print class distribution in training and test sets\n",
        "# Helps verify that data preprocessing was done correctly\n",
        "print(\"Train info:\", np.unique(y_train, return_counts=True))\n",
        "print(\"Test info:\", np.unique(y_test, return_counts=True))\n"
      ]
    },
    {
      "cell_type": "code",
      "execution_count": null,
      "id": "8AVaH_PqnDWX",
      "metadata": {
        "colab": {
          "base_uri": "https://localhost:8080/"
        },
        "id": "8AVaH_PqnDWX",
        "outputId": "0c2182b0-c80b-4e39-a61b-94b993efe017"
      },
      "outputs": [
        {
          "name": "stdout",
          "output_type": "stream",
          "text": [
            "Percentage of legitimate traffic: 53.46 %\n",
            "Percentage of non-legitimate traffic: 46.54 %\n"
          ]
        }
      ],
      "source": [
        "print('Percentage of legitimate traffic: %.2f' % (sum([t == encoded_legit_class for t in y_train]) / len(y_train) * 100), '%')\n",
        "print('Percentage of non-legitimate traffic: %.2f' % (sum([t != encoded_legit_class for t in y_train]) / len(y_train) * 100), '%')"
      ]
    },
    {
      "cell_type": "code",
      "execution_count": null,
      "id": "2fb726b2",
      "metadata": {
        "colab": {
          "base_uri": "https://localhost:8080/",
          "height": 338
        },
        "id": "2fb726b2",
        "outputId": "57a4d1b9-7982-4bbb-d22d-a9ef5c242b02"
      },
      "outputs": [
        {
          "name": "stdout",
          "output_type": "stream",
          "text": [
            "Building model...\n",
            "Model: \"model\"\n",
            "_________________________________________________________________\n",
            " Layer (type)                Output Shape              Param #   \n",
            "=================================================================\n",
            " input_1 (InputLayer)        [(None, 41)]              0         \n",
            "                                                                 \n",
            " dense (Dense)               (None, 31)                1302      \n",
            "                                                                 \n",
            " dense_1 (Dense)             (None, 21)                672       \n",
            "                                                                 \n",
            " dense_2 (Dense)             (None, 31)                682       \n",
            "                                                                 \n",
            " dropout (Dropout)           (None, 31)                0         \n",
            "                                                                 \n",
            " dense_3 (Dense)             (None, 41)                1312      \n",
            "                                                                 \n",
            "=================================================================\n",
            "Total params: 3968 (15.50 KB)\n",
            "Trainable params: 3968 (15.50 KB)\n",
            "Non-trainable params: 0 (0.00 Byte)\n",
            "_________________________________________________________________\n"
          ]
        }
      ],
      "source": [
        "# Initialize and build the anomaly detection model\n",
        "print(\"Building model...\")\n",
        "\n",
        "# Dynamically create the model instance using the specified model name\n",
        "# `globals()[model_name]` retrieves the function/class with the given name\n",
        "# and passes the input size (X_train.shape[1]) as an argument.\n",
        "detector = model_class(X_train.shape[1])\n",
        "\n",
        "# Compile the model with specified optimizer and loss function\n",
        "# - `optimizer='sgd'`: Uses Stochastic Gradient Descent (SGD) for training\n",
        "# - `loss='mse'`: Mean Squared Error (MSE) is commonly used in autoencoders\n",
        "detector.compile(optimizer='sgd', loss='mse')\n",
        "\n",
        "# Print the model summary to check its architecture\n",
        "detector.print_summary()\n"
      ]
    },
    {
      "cell_type": "code",
      "execution_count": null,
      "id": "d7683494",
      "metadata": {
        "id": "d7683494",
        "outputId": "8db7deac-d5fd-4654-ae15-0feb2cb258d1"
      },
      "outputs": [
        {
          "name": "stdout",
          "output_type": "stream",
          "text": [
            "Requirement already satisfied: pydot in /home/jmpr/miniconda3/envs/ntg/lib/python3.10/site-packages (4.0.1)\n",
            "Requirement already satisfied: pyparsing>=3.1.0 in /home/jmpr/miniconda3/envs/ntg/lib/python3.10/site-packages (from pydot) (3.1.1)\n"
          ]
        }
      ],
      "source": [
        "!pip install pydot\n",
        "# Execute in terminal: sudo apt install graphviz"
      ]
    },
    {
      "cell_type": "code",
      "execution_count": null,
      "id": "mWysBbcpChJV",
      "metadata": {
        "colab": {
          "base_uri": "https://localhost:8080/",
          "height": 900
        },
        "id": "mWysBbcpChJV",
        "outputId": "86eebac5-6d59-4e18-e6b3-b3585f88e418"
      },
      "outputs": [
        {
          "data": {
            "image/png": "[encoded data removed]",
            "text/plain": [
              "<IPython.core.display.Image object>"
            ]
          },
          "execution_count": 20,
          "metadata": {},
          "output_type": "execute_result"
        }
      ],
      "source": [
        "from tensorflow.keras.utils import plot_model\n",
        "import matplotlib.pyplot as plt\n",
        "\n",
        "# if model_name in ['autoencoder', 'deepautoencoder']:\n",
        "#   plot_model(detector.model, show_shapes=True, show_layer_names=True, show_trainable=True, show_layer_activations=True, dpi=75)\n",
        "#   plt.show()\n",
        "# else:  # if detector_name == 'kitnet'\n",
        "#   for model in detector.ensemble:\n",
        "#     plot_model(detector, show_shapes=True, show_layer_names=True, show_trainable=True, show_layer_activations=True, dpi=75)\n",
        "#     plt.show()\n",
        "#   plot_model(detector.output, show_shapes=True, show_layer_names=True, show_trainable=True, show_layer_activations=True, dpi=75)\n",
        "#   plt.show()\n",
        "\n",
        "plot_model(detector.model, show_shapes=True, show_layer_names=True, show_trainable=True, show_layer_activations=True, dpi=75)"
      ]
    },
    {
      "cell_type": "code",
      "execution_count": null,
      "id": "773af5ee",
      "metadata": {
        "colab": {
          "base_uri": "https://localhost:8080/",
          "height": 378
        },
        "id": "773af5ee",
        "outputId": "3100d128-0bbc-44e2-c09a-5ede570683f5"
      },
      "outputs": [
        {
          "data": {
            "image/png": "[encoded data removed]",
            "text/plain": [
              "<Figure size 900x250 with 2 Axes>"
            ]
          },
          "metadata": {},
          "output_type": "display_data"
        },
        {
          "name": "stdout",
          "output_type": "stream",
          "text": [
            "Loss\n",
            "\ttraining         \t (min:    0.035, max:    0.222, cur:    0.035)\n",
            "\tvalidation       \t (min:    0.027, max:    0.215, cur:    0.027)\n",
            "time\n",
            "\ttime             \t (min:    1.019, max:    1.872, cur:    1.095)\n",
            "474/474 [==============================] - 1s 2ms/step - loss: 0.0352 - val_loss: 0.0274 - time: 1.0953\n",
            "Fit completed in 18.915 s.\n"
          ]
        }
      ],
      "source": [
        "# Initialize a list to store callbacks\n",
        "callbacks = []\n",
        "\n",
        "# If validation split is used, warn the user and enable EarlyStopping\n",
        "if validation_split > 0:\n",
        "  print(\"WARNING: validation_split is used as validation.\")\n",
        "  # EarlyStopping: Stops training if `val_loss` does not improve for `patience` epochs\n",
        "  callbacks.append(EarlyStopping(monitor='val_loss', patience=patience))\n",
        "\n",
        "# Add additional callbacks for logging and tracking training time\n",
        "callbacks.extend([\n",
        "  TimeEpochs(),  # Tracks per-epoch execution time\n",
        "  CSVLogger(f\"{results_path}/log.csv\", append=True),  # Logs training progress to a CSV file\n",
        "  PlotLossesCallback(mode='notebook', figsize=(9, 2.5)),\n",
        "])\n",
        "\n",
        "# Start model training\n",
        "print(\"Fitting model...\")\n",
        "start_time = process_time()  # Record start time for measuring training duration\n",
        "\n",
        "# Train the model with the given dataset and specified hyperparameters\n",
        "detector.fit(\n",
        "  X_train + X_train_noise,  # Injecting noise into training data for robustness\n",
        "  X_train,  # Target output is the original training data (autoencoder setup)\n",
        "  batch_size=batch_size,\n",
        "  epochs=epochs,\n",
        "  validation_data=(X_val, X_val),  # Uses a fraction of training data for validation\n",
        "  callbacks=callbacks,  # Passes callback functions for early stopping and logging\n",
        "  verbose=1  # Displays training progress\n",
        ")\n",
        "\n",
        "# Display total training time\n",
        "print(f\"Fit completed in {process_time() - start_time:.3f} s.\")\n"
      ]
    },
    {
      "cell_type": "code",
      "execution_count": null,
      "id": "f3f899d4",
      "metadata": {
        "colab": {
          "base_uri": "https://localhost:8080/"
        },
        "id": "f3f899d4",
        "outputId": "8c55167f-cd03-4015-8cfc-2dc71ac7cc51"
      },
      "outputs": [
        {
          "name": "stdout",
          "output_type": "stream",
          "text": [
            "Test inferring...\n",
            "705/705 [==============================] - 1s 1ms/step\n",
            "Inference of 22544 instances completed in 1.477 s.\n"
          ]
        }
      ],
      "source": [
        "# Start model inference on the test dataset\n",
        "print(\"Test inferring...\")\n",
        "\n",
        "# Record the start time to measure inference duration\n",
        "start_time = process_time()\n",
        "\n",
        "# Compute anomaly scores for the test set\n",
        "# - `detector.score(X_test)`: Uses the trained model to predict anomaly scores\n",
        "# - `verbose=1`: Prints progress if enabled\n",
        "y_score = detector.score(X_test, verbose=1)\n",
        "\n",
        "# Display total inference time and number of test instances processed\n",
        "print(f\"Inference of {len(y_score)} instances completed in {process_time() - start_time:.3f} s.\")\n"
      ]
    },
    {
      "cell_type": "code",
      "execution_count": null,
      "id": "3ef3278d",
      "metadata": {
        "colab": {
          "base_uri": "https://localhost:8080/"
        },
        "id": "3ef3278d",
        "outputId": "48823203-079f-496e-f1e1-a87613bab828"
      },
      "outputs": [
        {
          "name": "stdout",
          "output_type": "stream",
          "text": [
            "Saving results...\n",
            "Train inferring...\n",
            "1894/1894 [==============================] - 2s 1ms/step\n",
            "Validation inferring...\n",
            "211/211 [==============================] - 0s 2ms/step\n"
          ]
        }
      ],
      "source": [
        "# Save test inference results\n",
        "print(\"Saving results...\")\n",
        "\n",
        "# Create a DataFrame to store true labels and predicted anomaly scores\n",
        "df_output = pd.DataFrame({\n",
        "    'y_true': y_test.astype(int),  # Convert true labels to integers\n",
        "    'y_score': y_score             # Store anomaly scores\n",
        "})\n",
        "\n",
        "# Save the results as a Parquet file for efficient storage\n",
        "df_output.to_parquet(os.path.join(results_path, 'targets_scores.parquet'))\n",
        "\n",
        "# Perform inference on the training data\n",
        "print(\"Train inferring...\")\n",
        "y_score_train = detector.score(X_train, verbose=1)\n",
        "\n",
        "# Create a DataFrame for training scores\n",
        "df_output_train = pd.DataFrame({'y_score': y_score_train})\n",
        "\n",
        "# Save the training scores to a Parquet file\n",
        "df_output_train.to_parquet(os.path.join(results_path, 'train_scores.parquet'))\n",
        "\n",
        "if X_val is not None:\n",
        "  # Perform inference on the training data\n",
        "  print(\"Validation inferring...\")\n",
        "  y_score_val = detector.score(X_val, verbose=1)\n",
        "\n",
        "  # Create a DataFrame for training scores\n",
        "  df_output_val = pd.DataFrame({'y_score': y_score_val})\n",
        "\n",
        "  # Save the training scores to a Parquet file\n",
        "  df_output_val.to_parquet(os.path.join(results_path, 'val_scores.parquet'))\n"
      ]
    },
    {
      "cell_type": "code",
      "execution_count": null,
      "id": "b18a9fa7",
      "metadata": {
        "colab": {
          "base_uri": "https://localhost:8080/",
          "height": 359
        },
        "id": "b18a9fa7",
        "outputId": "7862e01f-ea55-4f68-d852-931ce1af24d4"
      },
      "outputs": [
        {
          "name": "stdout",
          "output_type": "stream",
          "text": [
            "Plotting ROC curve...\n"
          ]
        },
        {
          "name": "stdout",
          "output_type": "stream",
          "text": [
            "ROC AUC Score: 0.9017\n",
            "ROC Partial AUC Score: 0.6688\n"
          ]
        },
        {
          "data": {
            "image/png": "[encoded data removed]",
            "text/plain": [
              "<Figure size 500x300 with 1 Axes>"
            ]
          },
          "metadata": {},
          "output_type": "display_data"
        }
      ],
      "source": [
        "from sklearn.metrics import roc_auc_score\n",
        "\n",
        "# Generate and save the ROC curve\n",
        "print(\"Plotting ROC curve...\")\n",
        "\n",
        "# Convert `y_test` into binary format:\n",
        "# - Assign `0` for the legitimate class (`encoded_legit_class`).\n",
        "# - Assign `1` for anomalies (all other classes).\n",
        "y_test_binary = [0 if v == encoded_legit_class else 1 for v in y_test.astype(int)]\n",
        "\n",
        "# Compute ROC-AUC\n",
        "roc_auc = roc_auc_score(y_test_binary, y_score)\n",
        "print(f'ROC AUC Score: {roc_auc:.4f}')\n",
        "roc_pauc = roc_auc_score(y_test_binary, y_score, max_fpr=0.01)\n",
        "print(f'ROC Partial AUC Score: {roc_pauc:.4f}')\n",
        "\n",
        "# Plot the ROC curve and save it as a figure\n",
        "plot_roc(\n",
        "    y_test_binary,  # Ground truth binary labels\n",
        "    y_score,        # Predicted anomaly scores\n",
        "    savefig=os.path.join(results_path, f'ROC_{model_name}')  # Save as file\n",
        ")\n"
      ]
    },
    {
      "cell_type": "code",
      "execution_count": null,
      "id": "Ri30A74EWG_P",
      "metadata": {
        "colab": {
          "base_uri": "https://localhost:8080/",
          "height": 363
        },
        "id": "Ri30A74EWG_P",
        "outputId": "c77f5e12-b8bb-4ee4-c8d5-ff941cd79cd1"
      },
      "outputs": [
        {
          "name": "stdout",
          "output_type": "stream",
          "text": [
            "TPR-FPR @thr=avg: 0.91-0.33\n",
            "TPR-FPR @thr=avg+std: 0.76-0.11\n",
            "\n"
          ]
        },
        {
          "data": {
            "image/png": "[encoded data removed]",
            "text/plain": [
              "<Figure size 500x300 with 1 Axes>"
            ]
          },
          "metadata": {},
          "output_type": "display_data"
        }
      ],
      "source": [
        "import seaborn as sns\n",
        "import matplotlib.pyplot as plt\n",
        "\n",
        "hist_data = pd.DataFrame(columns=['score', 'class'])\n",
        "hist_data['score'] = y_score\n",
        "hist_data['class'] = y_test_binary\n",
        "\n",
        "fig, ax = plt.subplots(figsize=(5, 3))\n",
        "\n",
        "sns.histplot(hist_data, x='score', hue='class', stat='count', ax=ax)\n",
        "\n",
        "# Compute thresholds\n",
        "thr_avg = np.mean(y_score_val)\n",
        "thr_avg_std = thr_avg + np.std(y_score_val)\n",
        "\n",
        "# Convert y_test_binary to NumPy array (avoid redundant calls)\n",
        "y_test_binary = np.array(y_test_binary)\n",
        "\n",
        "# Compute FPR and TPR at threshold avg\n",
        "tp_thr_avg = np.sum(y_test_binary[y_score >= thr_avg])  # True Positives\n",
        "fp_thr_avg = np.sum((1 - y_test_binary)[y_score >= thr_avg])  # False Positives\n",
        "tpr_thr_avg = tp_thr_avg / np.sum(y_test_binary)  # True Positive Rate\n",
        "fpr_thr_avg = fp_thr_avg / np.sum(1 - y_test_binary)  # False Positive Rate\n",
        "\n",
        "# Compute FPR and TPR at threshold avg+std\n",
        "tp_thr_avg_std = np.sum(y_test_binary[y_score >= thr_avg_std])  # True Positives\n",
        "fp_thr_avg_std = np.sum((1 - y_test_binary)[y_score >= thr_avg_std])  # False Positives\n",
        "tpr_thr_avg_std = tp_thr_avg_std / np.sum(y_test_binary)  # True Positive Rate\n",
        "fpr_thr_avg_std = fp_thr_avg_std / np.sum(1 - y_test_binary)  # False Positive Rate\n",
        "\n",
        "# Print Corrected Metrics\n",
        "print(f'TPR-FPR @thr=avg: {tpr_thr_avg:.2f}-{fpr_thr_avg:.2f}')\n",
        "print(f'TPR-FPR @thr=avg+std: {tpr_thr_avg_std:.2f}-{fpr_thr_avg_std:.2f}')\n",
        "print()\n",
        "\n",
        "ax.axvline(x=thr_avg, color='red', linestyle='--', label='avg.')\n",
        "ax.axvline(x=thr_avg_std, color='red', linestyle=':', label='avg.+std.')\n",
        "ax.text(x=thr_avg, y=2e3, s='avg.')\n",
        "ax.text(x=thr_avg_std, y=2e3, s='avg.+std.')\n",
        "\n",
        "plt.show()\n",
        "plt.close()"
      ]
    },
    {
      "cell_type": "markdown",
      "id": "kO8hYEVs-qc0",
      "metadata": {
        "id": "kO8hYEVs-qc0"
      },
      "source": [
        "## Deep AutoEncoder with pyOD"
      ]
    },
    {
      "cell_type": "code",
      "execution_count": null,
      "id": "cNUwwNq4LBn2",
      "metadata": {
        "colab": {
          "base_uri": "https://localhost:8080/"
        },
        "collapsed": true,
        "id": "cNUwwNq4LBn2",
        "outputId": "65b249d9-91a7-4fe3-f1f3-05a3a115fa9c"
      },
      "outputs": [
        {
          "name": "stdout",
          "output_type": "stream",
          "text": [
            "Requirement already satisfied: pyod==2.0.5 in /home/jmpr/miniconda3/envs/ntg/lib/python3.10/site-packages (2.0.5)\n",
            "Requirement already satisfied: joblib in /home/jmpr/miniconda3/envs/ntg/lib/python3.10/site-packages (from pyod==2.0.5) (1.3.2)\n",
            "Requirement already satisfied: matplotlib in /home/jmpr/miniconda3/envs/ntg/lib/python3.10/site-packages (from pyod==2.0.5) (3.8.2)\n",
            "Requirement already satisfied: numpy>=1.19 in /home/jmpr/miniconda3/envs/ntg/lib/python3.10/site-packages (from pyod==2.0.5) (1.24.4)\n",
            "Requirement already satisfied: numba>=0.51 in /home/jmpr/miniconda3/envs/ntg/lib/python3.10/site-packages (from pyod==2.0.5) (0.58.1)\n",
            "Requirement already satisfied: scipy>=1.5.1 in /home/jmpr/miniconda3/envs/ntg/lib/python3.10/site-packages (from pyod==2.0.5) (1.13.1)\n",
            "Requirement already satisfied: scikit-learn>=0.22.0 in /home/jmpr/miniconda3/envs/ntg/lib/python3.10/site-packages (from pyod==2.0.5) (1.3.1)\n",
            "Requirement already satisfied: llvmlite<0.42,>=0.41.0dev0 in /home/jmpr/miniconda3/envs/ntg/lib/python3.10/site-packages (from numba>=0.51->pyod==2.0.5) (0.41.1)\n",
            "Requirement already satisfied: threadpoolctl>=2.0.0 in /home/jmpr/miniconda3/envs/ntg/lib/python3.10/site-packages (from scikit-learn>=0.22.0->pyod==2.0.5) (3.2.0)\n",
            "Requirement already satisfied: contourpy>=1.0.1 in /home/jmpr/miniconda3/envs/ntg/lib/python3.10/site-packages (from matplotlib->pyod==2.0.5) (1.3.2)\n",
            "Requirement already satisfied: cycler>=0.10 in /home/jmpr/miniconda3/envs/ntg/lib/python3.10/site-packages (from matplotlib->pyod==2.0.5) (0.12.0)\n",
            "Requirement already satisfied: fonttools>=4.22.0 in /home/jmpr/miniconda3/envs/ntg/lib/python3.10/site-packages (from matplotlib->pyod==2.0.5) (4.43.0)\n",
            "Requirement already satisfied: kiwisolver>=1.3.1 in /home/jmpr/miniconda3/envs/ntg/lib/python3.10/site-packages (from matplotlib->pyod==2.0.5) (1.4.5)\n",
            "Requirement already satisfied: packaging>=20.0 in /home/jmpr/miniconda3/envs/ntg/lib/python3.10/site-packages (from matplotlib->pyod==2.0.5) (23.2)\n",
            "Requirement already satisfied: pillow>=8 in /home/jmpr/miniconda3/envs/ntg/lib/python3.10/site-packages (from matplotlib->pyod==2.0.5) (10.0.1)\n",
            "Requirement already satisfied: pyparsing>=2.3.1 in /home/jmpr/miniconda3/envs/ntg/lib/python3.10/site-packages (from matplotlib->pyod==2.0.5) (3.1.1)\n",
            "Requirement already satisfied: python-dateutil>=2.7 in /home/jmpr/miniconda3/envs/ntg/lib/python3.10/site-packages (from matplotlib->pyod==2.0.5) (2.8.2)\n",
            "Requirement already satisfied: six>=1.5 in /home/jmpr/miniconda3/envs/ntg/lib/python3.10/site-packages (from python-dateutil>=2.7->matplotlib->pyod==2.0.5) (1.16.0)\n"
          ]
        }
      ],
      "source": [
        "!pip install pyod==2.0.5"
      ]
    },
    {
      "cell_type": "code",
      "execution_count": null,
      "id": "-7mfLW1HQo02",
      "metadata": {
        "colab": {
          "base_uri": "https://localhost:8080/",
          "height": 359
        },
        "id": "-7mfLW1HQo02",
        "outputId": "981ca69f-3d79-4da8-a485-d8c5cac3cb94"
      },
      "outputs": [
        {
          "name": "stderr",
          "output_type": "stream",
          "text": [
            "Training: 100%|██████████| 10/10 [00:22<00:00,  2.23s/it]\n"
          ]
        },
        {
          "name": "stdout",
          "output_type": "stream",
          "text": [
            "ROC AUC Score: 0.9354\n",
            "ROC Partial AUC Score: 0.5153\n"
          ]
        },
        {
          "data": {
            "image/png": "[encoded data removed]",
            "text/plain": [
              "<Figure size 500x300 with 1 Axes>"
            ]
          },
          "metadata": {},
          "output_type": "display_data"
        }
      ],
      "source": [
        "import os\n",
        "import numpy as np\n",
        "from pyod.models.auto_encoder import AutoEncoder\n",
        "from sklearn.metrics import roc_auc_score\n",
        "import math\n",
        "\n",
        "# Initialize and train the AE model\n",
        "ae = AutoEncoder(contamination=0.01, preprocessing=True,\n",
        "                  lr=0.01,\n",
        "                  epoch_num=10,\n",
        "                  batch_size=128, optimizer_name='sgd', device=None, random_state=42,\n",
        "                  use_compile=False, compile_mode='default', verbose=1,\n",
        "                  hidden_neuron_list=[\n",
        "                      math.ceil(X_train.shape[1] * .75),\n",
        "                      math.ceil(X_train.shape[1] * .5)],\n",
        "                  hidden_activation_name='relu',\n",
        "                  batch_norm=False, dropout_rate=0)\n",
        "\n",
        "# contamination=0.1, preprocessing=True, lr=0.001, epoch_num=10,\n",
        "# batch_size=32, optimizer_name='adam', device=None, random_state=42,\n",
        "# use_compile=False, compile_mode='default', verbose=1,\n",
        "# optimizer_params={'weight_decay': 1e-05},\n",
        "# hidden_neuron_list=[64, 32], hidden_activation_name='relu',\n",
        "# batch_norm=True, dropout_rate=0.2\n",
        "\n",
        "ae.fit(X_train)\n",
        "\n",
        "# Extract AE raw scores (higher score = more anomalous)\n",
        "y_score = ae.decision_function(X_test)  # Raw anomaly scores\n",
        "\n",
        "# Convert y_test to binary format if necessary (ensure it's 0 or 1)\n",
        "y_test_binary = [0 if v == encoded_legit_class else 1 for v in y_test.astype(int)]\n",
        "\n",
        "# Compute ROC-AUC\n",
        "roc_auc = roc_auc_score(y_test_binary, y_score)\n",
        "print(f'ROC AUC Score: {roc_auc:.4f}')\n",
        "roc_pauc = roc_auc_score(y_test_binary, y_score, max_fpr=0.01)\n",
        "print(f'ROC Partial AUC Score: {roc_pauc:.4f}')\n",
        "\n",
        "# Define the save path (modify `results_path` and `model_name` accordingly)\n",
        "results_path = \"./results\"  # Change this to your preferred directory\n",
        "model_name = \"AE\"\n",
        "os.makedirs(results_path, exist_ok=True)\n",
        "\n",
        "# Plot and save the ROC curve\n",
        "plot_roc(\n",
        "    y_test_binary,\n",
        "    y_score,\n",
        "    savefig=os.path.join(results_path, f'ROC_{model_name}')\n",
        ")\n"
      ]
    },
    {
      "cell_type": "markdown",
      "id": "LXrI8GS99-lp",
      "metadata": {
        "id": "LXrI8GS99-lp"
      },
      "source": [
        "# Anomaly Detection via Machine Learning"
      ]
    },
    {
      "cell_type": "markdown",
      "id": "lt7NOK4W-fXs",
      "metadata": {
        "id": "lt7NOK4W-fXs"
      },
      "source": [
        "## Isolation Forest with pyOD"
      ]
    },
    {
      "cell_type": "code",
      "execution_count": null,
      "id": "u4xavMuzP15w",
      "metadata": {
        "colab": {
          "base_uri": "https://localhost:8080/",
          "height": 342
        },
        "id": "u4xavMuzP15w",
        "outputId": "eb35d372-ed01-46fa-96f3-7fd284e00e6b"
      },
      "outputs": [
        {
          "name": "stdout",
          "output_type": "stream",
          "text": [
            "ROC AUC Score: 0.9424\n",
            "ROC Partial AUC Score: 0.7345\n"
          ]
        },
        {
          "data": {
            "image/png": "[encoded data removed]",
            "text/plain": [
              "<Figure size 500x300 with 1 Axes>"
            ]
          },
          "metadata": {},
          "output_type": "display_data"
        }
      ],
      "source": [
        "import os\n",
        "import numpy as np\n",
        "from pyod.models.iforest import IForest\n",
        "from sklearn.metrics import roc_auc_score\n",
        "\n",
        "# Initialize and train the IF model\n",
        "if_ = IForest(n_estimators=100, max_samples='auto', contamination=0.01)\n",
        "if_.fit(X_train)\n",
        "\n",
        "# Extract IF raw scores (higher score = more anomalous)\n",
        "y_score = if_.decision_function(X_test)  # Raw anomaly scores\n",
        "\n",
        "# Convert y_test to binary format if necessary (ensure it's 0 or 1)\n",
        "y_test_binary = [0 if v == encoded_legit_class else 1 for v in y_test.astype(int)]\n",
        "\n",
        "# Compute ROC-AUC\n",
        "roc_auc = roc_auc_score(y_test_binary, y_score)\n",
        "print(f'ROC AUC Score: {roc_auc:.4f}')\n",
        "roc_pauc = roc_auc_score(y_test_binary, y_score, max_fpr=0.01)\n",
        "print(f'ROC Partial AUC Score: {roc_pauc:.4f}')\n",
        "\n",
        "# Define the save path (modify `results_path` and `model_name` accordingly)\n",
        "results_path = \"./results\"  # Change this to your preferred directory\n",
        "model_name = \"IF\"\n",
        "os.makedirs(results_path, exist_ok=True)\n",
        "\n",
        "# Plot and save the ROC curve\n",
        "plot_roc(\n",
        "    y_test_binary,\n",
        "    y_score,\n",
        "    savefig=os.path.join(results_path, f'ROC_{model_name}')\n",
        ")\n"
      ]
    },
    {
      "cell_type": "markdown",
      "id": "CarOpU-y-IvG",
      "metadata": {
        "id": "CarOpU-y-IvG"
      },
      "source": [
        "# Anomaly Detection via Generative AI"
      ]
    },
    {
      "cell_type": "markdown",
      "id": "97h8Aigm-wpn",
      "metadata": {
        "id": "97h8Aigm-wpn"
      },
      "source": [
        "## Variational AutoEncoder with pyOD"
      ]
    },
    {
      "cell_type": "code",
      "execution_count": null,
      "id": "qQE01n-Notbd",
      "metadata": {
        "colab": {
          "base_uri": "https://localhost:8080/",
          "height": 359
        },
        "id": "qQE01n-Notbd",
        "outputId": "02665ff7-bade-412a-8332-4bfc05acbba6"
      },
      "outputs": [
        {
          "name": "stderr",
          "output_type": "stream",
          "text": [
            "Training: 100%|██████████| 10/10 [00:34<00:00,  3.43s/it]\n"
          ]
        },
        {
          "name": "stdout",
          "output_type": "stream",
          "text": [
            "ROC AUC Score: 0.9191\n",
            "ROC Partial AUC Score: 0.5254\n"
          ]
        },
        {
          "data": {
            "image/png": "[encoded data removed]",
            "text/plain": [
              "<Figure size 500x300 with 1 Axes>"
            ]
          },
          "metadata": {},
          "output_type": "display_data"
        }
      ],
      "source": [
        "import os\n",
        "import numpy as np\n",
        "from pyod.models.vae import VAE\n",
        "from sklearn.metrics import roc_auc_score\n",
        "import math\n",
        "\n",
        "# Initialize and train the VAE model\n",
        "vae = VAE(contamination=0.01, preprocessing=True, lr=0.01, epoch_num=10,\n",
        "                  batch_size=128, optimizer_name='sgd', device=None, random_state=42,\n",
        "                  use_compile=False, compile_mode='default', verbose=1,\n",
        "                  optimizer_params={},\n",
        "                  encoder_neuron_list=[\n",
        "                      math.ceil(X_train.shape[1] * .75),\n",
        "                      math.ceil(X_train.shape[1] * .5)],\n",
        "                  decoder_neuron_list=[\n",
        "                      math.ceil(X_train.shape[1] * .5),\n",
        "                      math.ceil(X_train.shape[1] * .75)],\n",
        "                  hidden_activation_name='relu')\n",
        "\n",
        "vae.fit(X_train)\n",
        "\n",
        "# Extract VAE raw scores (higher score = more anomalous)\n",
        "y_score = vae.decision_function(X_test)  # Raw anomaly scores\n",
        "\n",
        "# Convert y_test to binary format if necessary (ensure it's 0 or 1)\n",
        "y_test_binary = [0 if v == encoded_legit_class else 1 for v in y_test.astype(int)]\n",
        "\n",
        "# Compute ROC-AUC\n",
        "roc_auc = roc_auc_score(y_test_binary, y_score)\n",
        "print(f'ROC AUC Score: {roc_auc:.4f}')\n",
        "roc_pauc = roc_auc_score(y_test_binary, y_score, max_fpr=0.01)\n",
        "print(f'ROC Partial AUC Score: {roc_pauc:.4f}')\n",
        "\n",
        "# Define the save path (modify `results_path` and `model_name` accordingly)\n",
        "results_path = \"./results\"  # Change this to your preferred directory\n",
        "model_name = \"VAE\"\n",
        "os.makedirs(results_path, exist_ok=True)\n",
        "\n",
        "# Plot and save the ROC curve\n",
        "plot_roc(\n",
        "    y_test_binary,\n",
        "    y_score,\n",
        "    savefig=os.path.join(results_path, f'ROC_{model_name}')\n",
        ")\n"
      ]
    },
    {
      "cell_type": "code",
      "execution_count": null,
      "id": "BM6mnelc95rN",
      "metadata": {
        "colab": {
          "base_uri": "https://localhost:8080/"
        },
        "collapsed": true,
        "id": "BM6mnelc95rN",
        "outputId": "236b0fe9-ab30-43be-a8c9-52218aa0adea"
      },
      "outputs": [
        {
          "name": "stdout",
          "output_type": "stream",
          "text": [
            "Requirement already satisfied: transformers in /home/jmpr/miniconda3/envs/ntg/lib/python3.10/site-packages (4.51.2)\n",
            "Collecting datasets\n",
            "  Downloading datasets-4.1.1-py3-none-any.whl.metadata (18 kB)\n",
            "Requirement already satisfied: filelock in /home/jmpr/miniconda3/envs/ntg/lib/python3.10/site-packages (from transformers) (3.13.1)\n",
            "Requirement already satisfied: huggingface-hub<1.0,>=0.30.0 in /home/jmpr/miniconda3/envs/ntg/lib/python3.10/site-packages (from transformers) (0.30.2)\n",
            "Requirement already satisfied: numpy>=1.17 in /home/jmpr/miniconda3/envs/ntg/lib/python3.10/site-packages (from transformers) (1.24.4)\n",
            "Requirement already satisfied: packaging>=20.0 in /home/jmpr/miniconda3/envs/ntg/lib/python3.10/site-packages (from transformers) (23.2)\n",
            "Requirement already satisfied: pyyaml>=5.1 in /home/jmpr/miniconda3/envs/ntg/lib/python3.10/site-packages (from transformers) (6.0.1)\n",
            "Requirement already satisfied: regex!=2019.12.17 in /home/jmpr/miniconda3/envs/ntg/lib/python3.10/site-packages (from transformers) (2023.10.3)\n",
            "Requirement already satisfied: requests in /home/jmpr/miniconda3/envs/ntg/lib/python3.10/site-packages (from transformers) (2.31.0)\n",
            "Requirement already satisfied: tokenizers<0.22,>=0.21 in /home/jmpr/miniconda3/envs/ntg/lib/python3.10/site-packages (from transformers) (0.21.1)\n",
            "Requirement already satisfied: safetensors>=0.4.3 in /home/jmpr/miniconda3/envs/ntg/lib/python3.10/site-packages (from transformers) (0.5.3)\n",
            "Requirement already satisfied: tqdm>=4.27 in /home/jmpr/miniconda3/envs/ntg/lib/python3.10/site-packages (from transformers) (4.66.1)\n",
            "Collecting pyarrow>=21.0.0 (from datasets)\n",
            "  Downloading pyarrow-21.0.0-cp310-cp310-manylinux_2_28_x86_64.whl.metadata (3.3 kB)\n",
            "Collecting dill<0.4.1,>=0.3.0 (from datasets)\n",
            "  Downloading dill-0.4.0-py3-none-any.whl.metadata (10 kB)\n",
            "Requirement already satisfied: pandas in /home/jmpr/miniconda3/envs/ntg/lib/python3.10/site-packages (from datasets) (2.1.4)\n",
            "Collecting requests (from transformers)\n",
            "  Downloading requests-2.32.5-py3-none-any.whl.metadata (4.9 kB)\n",
            "Collecting tqdm>=4.27 (from transformers)\n",
            "  Using cached tqdm-4.67.1-py3-none-any.whl.metadata (57 kB)\n",
            "Collecting xxhash (from datasets)\n",
            "  Downloading xxhash-3.6.0-cp310-cp310-manylinux2014_x86_64.manylinux_2_17_x86_64.manylinux_2_28_x86_64.whl.metadata (13 kB)\n",
            "Collecting multiprocess<0.70.17 (from datasets)\n",
            "  Downloading multiprocess-0.70.16-py310-none-any.whl.metadata (7.2 kB)\n",
            "Requirement already satisfied: fsspec<=2025.9.0,>=2023.1.0 in /home/jmpr/miniconda3/envs/ntg/lib/python3.10/site-packages (from fsspec[http]<=2025.9.0,>=2023.1.0->datasets) (2023.10.0)\n",
            "Requirement already satisfied: aiohttp!=4.0.0a0,!=4.0.0a1 in /home/jmpr/miniconda3/envs/ntg/lib/python3.10/site-packages (from fsspec[http]<=2025.9.0,>=2023.1.0->datasets) (3.9.1)\n",
            "Requirement already satisfied: typing-extensions>=3.7.4.3 in /home/jmpr/miniconda3/envs/ntg/lib/python3.10/site-packages (from huggingface-hub<1.0,>=0.30.0->transformers) (4.8.0)\n",
            "Requirement already satisfied: charset_normalizer<4,>=2 in /home/jmpr/miniconda3/envs/ntg/lib/python3.10/site-packages (from requests->transformers) (3.3.0)\n",
            "Requirement already satisfied: idna<4,>=2.5 in /home/jmpr/miniconda3/envs/ntg/lib/python3.10/site-packages (from requests->transformers) (3.4)\n",
            "Requirement already satisfied: urllib3<3,>=1.21.1 in /home/jmpr/miniconda3/envs/ntg/lib/python3.10/site-packages (from requests->transformers) (2.0.6)\n",
            "Requirement already satisfied: certifi>=2017.4.17 in /home/jmpr/miniconda3/envs/ntg/lib/python3.10/site-packages (from requests->transformers) (2023.7.22)\n",
            "Requirement already satisfied: python-dateutil>=2.8.2 in /home/jmpr/miniconda3/envs/ntg/lib/python3.10/site-packages (from pandas->datasets) (2.8.2)\n",
            "Requirement already satisfied: pytz>=2020.1 in /home/jmpr/miniconda3/envs/ntg/lib/python3.10/site-packages (from pandas->datasets) (2023.3.post1)\n",
            "Requirement already satisfied: tzdata>=2022.1 in /home/jmpr/miniconda3/envs/ntg/lib/python3.10/site-packages (from pandas->datasets) (2023.3)\n",
            "Requirement already satisfied: attrs>=17.3.0 in /home/jmpr/miniconda3/envs/ntg/lib/python3.10/site-packages (from aiohttp!=4.0.0a0,!=4.0.0a1->fsspec[http]<=2025.9.0,>=2023.1.0->datasets) (23.1.0)\n",
            "Requirement already satisfied: multidict<7.0,>=4.5 in /home/jmpr/miniconda3/envs/ntg/lib/python3.10/site-packages (from aiohttp!=4.0.0a0,!=4.0.0a1->fsspec[http]<=2025.9.0,>=2023.1.0->datasets) (6.0.4)\n",
            "Requirement already satisfied: yarl<2.0,>=1.0 in /home/jmpr/miniconda3/envs/ntg/lib/python3.10/site-packages (from aiohttp!=4.0.0a0,!=4.0.0a1->fsspec[http]<=2025.9.0,>=2023.1.0->datasets) (1.9.4)\n",
            "Requirement already satisfied: frozenlist>=1.1.1 in /home/jmpr/miniconda3/envs/ntg/lib/python3.10/site-packages (from aiohttp!=4.0.0a0,!=4.0.0a1->fsspec[http]<=2025.9.0,>=2023.1.0->datasets) (1.4.1)\n",
            "Requirement already satisfied: aiosignal>=1.1.2 in /home/jmpr/miniconda3/envs/ntg/lib/python3.10/site-packages (from aiohttp!=4.0.0a0,!=4.0.0a1->fsspec[http]<=2025.9.0,>=2023.1.0->datasets) (1.3.1)\n",
            "Requirement already satisfied: async-timeout<5.0,>=4.0 in /home/jmpr/miniconda3/envs/ntg/lib/python3.10/site-packages (from aiohttp!=4.0.0a0,!=4.0.0a1->fsspec[http]<=2025.9.0,>=2023.1.0->datasets) (4.0.3)\n",
            "Requirement already satisfied: six>=1.5 in /home/jmpr/miniconda3/envs/ntg/lib/python3.10/site-packages (from python-dateutil>=2.8.2->pandas->datasets) (1.16.0)\n",
            "Downloading datasets-4.1.1-py3-none-any.whl (503 kB)\n",
            "Downloading dill-0.4.0-py3-none-any.whl (119 kB)\n",
            "Downloading multiprocess-0.70.16-py310-none-any.whl (134 kB)\n",
            "Downloading pyarrow-21.0.0-cp310-cp310-manylinux_2_28_x86_64.whl (42.7 MB)\n",
            "\u001b[2K   \u001b[90m━━━━━━━━━━━━━━━━━━━━━━━━━━━━━━━━━━━━━━━━\u001b[0m \u001b[32m42.7/42.7 MB\u001b[0m \u001b[31m8.7 MB/s\u001b[0m eta \u001b[36m0:00:00\u001b[0m00:01\u001b[0m00:01\u001b[0m\n",
            "\u001b[?25hDownloading requests-2.32.5-py3-none-any.whl (64 kB)\n",
            "Using cached tqdm-4.67.1-py3-none-any.whl (78 kB)\n",
            "Downloading xxhash-3.6.0-cp310-cp310-manylinux2014_x86_64.manylinux_2_17_x86_64.manylinux_2_28_x86_64.whl (193 kB)\n",
            "Installing collected packages: xxhash, tqdm, requests, pyarrow, dill, multiprocess, datasets\n",
            "  Attempting uninstall: tqdm\n",
            "    Found existing installation: tqdm 4.66.1\n",
            "    Uninstalling tqdm-4.66.1:\n",
            "      Successfully uninstalled tqdm-4.66.1\n",
            "  Attempting uninstall: requests\n",
            "    Found existing installation: requests 2.31.0\n",
            "    Uninstalling requests-2.31.0:\n",
            "      Successfully uninstalled requests-2.31.0\n",
            "  Attempting uninstall: pyarrow\n",
            "    Found existing installation: pyarrow 13.0.0\n",
            "    Uninstalling pyarrow-13.0.0:\n",
            "      Successfully uninstalled pyarrow-13.0.0\n",
            "Successfully installed datasets-4.1.1 dill-0.4.0 multiprocess-0.70.16 pyarrow-21.0.0 requests-2.32.5 tqdm-4.67.1 xxhash-3.6.0\n"
          ]
        }
      ],
      "source": [
        "!pip install transformers datasets\n",
        "\n",
        "from transformers import GPT2LMHeadModel, GPT2Config\n",
        "import torch\n",
        "import numpy as np\n"
      ]
    },
    {
      "cell_type": "markdown",
      "id": "Z3yPLA2j-02L",
      "metadata": {
        "id": "Z3yPLA2j-02L"
      },
      "source": [
        "## GPT-2 with Huggingface"
      ]
    },
    {
      "cell_type": "code",
      "execution_count": null,
      "id": "5Oxs5wumCc8D",
      "metadata": {
        "id": "5Oxs5wumCc8D"
      },
      "outputs": [],
      "source": [
        "class SimpleTokenizer:\n",
        "    def __init__(self, token2id):\n",
        "        self.token2id = dict(token2id)  # copia così non modifichiamo l'originale\n",
        "        self.pad_token = '<PAD>'\n",
        "        if self.pad_token not in self.token2id:\n",
        "            self.pad_token_id = len(self.token2id)\n",
        "            self.token2id[self.pad_token] = self.pad_token_id\n",
        "        else:\n",
        "            self.pad_token_id = self.token2id[self.pad_token]\n",
        "        self.id2token = {v: k for k, v in self.token2id.items()}\n",
        "\n",
        "    def encode(self, text, max_length=128, truncation=True, padding=\"max_length\", return_tensors=None):\n",
        "        tokens = text.split()\n",
        "        token_ids = [self.token2id.get(t, self.pad_token_id) for t in tokens]\n",
        "\n",
        "        if truncation and len(token_ids) > max_length:\n",
        "            token_ids = token_ids[:max_length]\n",
        "        pad_len = max_length - len(token_ids)\n",
        "        if padding == \"max_length\":\n",
        "            token_ids += [self.pad_token_id] * pad_len\n",
        "\n",
        "        attention_mask = [1] * (max_length - pad_len) + [0] * pad_len\n",
        "\n",
        "        import torch\n",
        "        input_ids_tensor = torch.tensor([token_ids])\n",
        "        attention_mask_tensor = torch.tensor([attention_mask])\n",
        "\n",
        "        class Encoding:\n",
        "            pass\n",
        "\n",
        "        encoding = Encoding()\n",
        "        encoding.input_ids = input_ids_tensor\n",
        "        encoding.attention_mask = attention_mask_tensor\n",
        "        return encoding\n",
        "\n",
        "    def __call__(self, text, max_length=128, truncation=True, padding=\"max_length\", return_tensors=None):\n",
        "        return self.encode(text, max_length, truncation, padding, return_tensors)\n"
      ]
    },
    {
      "cell_type": "code",
      "execution_count": null,
      "id": "tgquNHQX96Li",
      "metadata": {
        "id": "tgquNHQX96Li"
      },
      "outputs": [],
      "source": [
        "from torch.utils.data import Dataset, DataLoader\n",
        "\n",
        "class TextDataset(Dataset):\n",
        "    def __init__(self, texts, tokenizer, max_length=128):\n",
        "        self.texts = texts\n",
        "        self.tokenizer = tokenizer\n",
        "        self.max_length = max_length\n",
        "\n",
        "    def __len__(self):\n",
        "        return len(self.texts)\n",
        "\n",
        "    def __getitem__(self, idx):\n",
        "        encoded = self.tokenizer(self.texts[idx], max_length=self.max_length, truncation=True, padding=\"max_length\", return_tensors=\"pt\")\n",
        "        input_ids = encoded.input_ids.squeeze(0)\n",
        "        attention_mask = encoded.attention_mask.squeeze(0)\n",
        "        return input_ids, attention_mask\n",
        "\n",
        "class GPT2Detector:\n",
        "    def __init__(self, token2id):\n",
        "        # Costruiamo tokenizer con il pad incluso\n",
        "        self.tokenizer = SimpleTokenizer(token2id)\n",
        "        vocab_size = len(self.tokenizer.token2id)  # ora è già corretto\n",
        "\n",
        "        config = GPT2Config(\n",
        "            n_embd=32,\n",
        "            n_layer=2,\n",
        "            n_head=2,\n",
        "            vocab_size=vocab_size,\n",
        "            pad_token_id=self.tokenizer.pad_token_id  # meglio specificarlo\n",
        "        )\n",
        "        self.model = GPT2LMHeadModel(config)\n",
        "        self.device = torch.device(\"cuda\" if torch.cuda.is_available() else \"cpu\")\n",
        "        self.model.to(self.device)\n",
        "        self.model.train()\n",
        "\n",
        "    def fit(self, X_train, y_train=None, epochs=10, batch_size=8, lr=5e-5):\n",
        "        # Dataset e DataLoader\n",
        "        dataset = TextDataset(X_train, self.tokenizer)\n",
        "        dataloader = DataLoader(dataset, batch_size=batch_size, shuffle=True)\n",
        "\n",
        "        optimizer = torch.optim.AdamW(self.model.parameters(), lr=lr)\n",
        "        loss_fn = torch.nn.CrossEntropyLoss(ignore_index=self.tokenizer.pad_token_id)\n",
        "\n",
        "        for epoch in range(epochs):\n",
        "            total_loss = 0\n",
        "            self.model.train()\n",
        "            for input_ids, attention_mask in dataloader:\n",
        "                input_ids = input_ids.to(self.device)\n",
        "                attention_mask = attention_mask.to(self.device)\n",
        "                optimizer.zero_grad()\n",
        "                outputs = self.model(input_ids, attention_mask=attention_mask, labels=input_ids)\n",
        "                loss = outputs.loss\n",
        "                loss.backward()\n",
        "                optimizer.step()\n",
        "                total_loss += loss.item()\n",
        "            avg_loss = total_loss / len(dataloader)\n",
        "            print(f\"Epoch {epoch+1}/{epochs} - Loss: {avg_loss:.4f}\")\n",
        "\n",
        "    def predict_score(self, X):\n",
        "        self.model.eval()\n",
        "        scores = []\n",
        "        for text in X:\n",
        "            encoding = self.tokenizer(text, return_tensors='pt', truncation=True)\n",
        "            input_ids = encoding.input_ids.to(self.device)\n",
        "            with torch.no_grad():\n",
        "                outputs = self.model(input_ids, labels=input_ids)\n",
        "                loss = outputs.loss\n",
        "            perplexity = torch.exp(loss).item()\n",
        "            scores.append(perplexity)\n",
        "        return np.array(scores)"
      ]
    },
    {
      "cell_type": "code",
      "execution_count": null,
      "id": "QLp10225-H7A",
      "metadata": {
        "id": "QLp10225-H7A"
      },
      "outputs": [],
      "source": [
        "def tabular_to_text(X):\n",
        "    # Converte riga numpy array in stringa con valori numerici separati da spazi\n",
        "    texts = []\n",
        "    for row in X:\n",
        "        text = \" \".join([str(round(x, 4)) for x in row])\n",
        "        texts.append(text)\n",
        "    return texts\n"
      ]
    },
    {
      "cell_type": "code",
      "execution_count": null,
      "id": "Bcx3PEldAqi2",
      "metadata": {
        "id": "Bcx3PEldAqi2"
      },
      "outputs": [],
      "source": [
        "def count_trainable_parameters(model):\n",
        "    return sum(p.numel() for p in model.parameters() if p.requires_grad)\n"
      ]
    },
    {
      "cell_type": "code",
      "execution_count": null,
      "id": "a_WRzRSsBXQm",
      "metadata": {
        "colab": {
          "base_uri": "https://localhost:8080/"
        },
        "id": "a_WRzRSsBXQm",
        "outputId": "cfbc5771-3200-4119-804f-adf3a1aa97f8"
      },
      "outputs": [
        {
          "name": "stdout",
          "output_type": "stream",
          "text": [
            "Vocabolario custom size: 2087\n"
          ]
        }
      ],
      "source": [
        "def build_vocab(texts):\n",
        "    vocab = set()\n",
        "    for text in texts:\n",
        "        tokens = text.split()\n",
        "        vocab.update(tokens)\n",
        "    token2id = {token: idx for idx, token in enumerate(sorted(vocab))}\n",
        "    return token2id, len(vocab)\n",
        "\n",
        "# Esempio:\n",
        "X_train_text = tabular_to_text(X_train)\n",
        "token2id, vocab_size = build_vocab(X_train_text)\n",
        "print(f\"Vocabolario custom size: {vocab_size}\")\n"
      ]
    },
    {
      "cell_type": "code",
      "execution_count": null,
      "id": "cc7ea774",
      "metadata": {
        "colab": {
          "base_uri": "https://localhost:8080/",
          "height": 498
        },
        "id": "cc7ea774",
        "outputId": "e50f97ca-3ad0-48a1-8c08-190dc3266f8a"
      },
      "outputs": [
        {
          "name": "stdout",
          "output_type": "stream",
          "text": [
            "Trainable parameters: 125056\n"
          ]
        },
        {
          "name": "stderr",
          "output_type": "stream",
          "text": [
            "`loss_type=None` was set in the config but it is unrecognised.Using the default loss: `ForCausalLMLoss`.\n"
          ]
        },
        {
          "name": "stdout",
          "output_type": "stream",
          "text": [
            "Epoch 1/10 - Loss: 1.3472\n",
            "Epoch 2/10 - Loss: 0.2451\n",
            "Epoch 3/10 - Loss: 0.2152\n",
            "Epoch 4/10 - Loss: 0.2016\n",
            "Epoch 5/10 - Loss: 0.1930\n",
            "Epoch 6/10 - Loss: 0.1871\n",
            "Epoch 7/10 - Loss: 0.1827\n",
            "Epoch 8/10 - Loss: 0.1793\n",
            "Epoch 9/10 - Loss: 0.1766\n"
          ]
        },
        {
          "name": "stderr",
          "output_type": "stream",
          "text": [
            "We strongly recommend passing in an `attention_mask` since your input_ids may be padded. See https://huggingface.co/docs/transformers/troubleshooting#incorrect-output-when-padding-tokens-arent-masked.\n"
          ]
        },
        {
          "name": "stdout",
          "output_type": "stream",
          "text": [
            "Epoch 10/10 - Loss: 0.1742\n"
          ]
        },
        {
          "data": {
            "image/png": "[encoded data removed]",
            "text/plain": [
              "<Figure size 500x300 with 1 Axes>"
            ]
          },
          "metadata": {},
          "output_type": "display_data"
        }
      ],
      "source": [
        "# Istanzia modello\n",
        "gpt2_detector = GPT2Detector(token2id)\n",
        "\n",
        "num_params = count_trainable_parameters(gpt2_detector.model)\n",
        "print(f\"Trainable parameters: {num_params}\")\n",
        "\n",
        "# Prepara dati testo da array numerico\n",
        "X_train_text = tabular_to_text(X_train)\n",
        "X_test_text = tabular_to_text(X_test)\n",
        "\n",
        "# Addestra 10 epoche\n",
        "gpt2_detector.fit(X_train_text, epochs=10, batch_size=8, lr=5e-5)\n",
        "\n",
        "# Calcola scores perplexity su test\n",
        "anom_scores = gpt2_detector.predict_score(X_test_text)\n",
        "\n",
        "# Usa la funzione plotroc già presente\n",
        "plot_roc(y_test_binary, anom_scores, savefig=None, show=True)"
      ]
    }
  ],
  "metadata": {
    "accelerator": "GPU",
    "colab": {
      "gpuType": "T4",
      "provenance": []
    },
    "kernelspec": {
      "display_name": "ntg",
      "language": "python",
      "name": "python3"
    },
    "language_info": {
      "codemirror_mode": {
        "name": "ipython",
        "version": 3
      },
      "file_extension": ".py",
      "mimetype": "text/x-python",
      "name": "python",
      "nbconvert_exporter": "python",
      "pygments_lexer": "ipython3",
      "version": "3.10.13"
    }
  },
  "nbformat": 4,
  "nbformat_minor": 5
}