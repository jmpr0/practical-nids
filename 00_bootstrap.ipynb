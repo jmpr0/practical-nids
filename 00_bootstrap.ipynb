{
 "cells": [
  {
   "cell_type": "code",
   "execution_count": null,
   "id": "2516e978",
   "metadata": {
    "vscode": {
     "languageId": "plaintext"
    }
   },
   "outputs": [],
   "source": [
    "# Colab bootstrap\n",
    "import os, sys, subprocess, importlib, pathlib\n",
    "\n",
    "REPO_URL = \"https://github.com/jmpr0/practical-nids\"\n",
    "REPO_DIR = \"/content/practical-nids\"\n",
    "\n",
    "if not pathlib.Path(REPO_DIR).exists():\n",
    "    subprocess.run([\"git\", \"clone\", REPO_URL, REPO_DIR], check=True)\n",
    "\n",
    "os.chdir(REPO_DIR)\n",
    "\n",
    "# Install deps\n",
    "subprocess.run([sys.executable, \"-m\", \"pip\", \"install\", \"-r\", \"requirements.txt\", \"--quiet\"], check=True)\n",
    "\n",
    "# Create outputs dirs\n",
    "for d in [\"outputs\", \"data/cache\", \"models\"]:\n",
    "    pathlib.Path(d).mkdir(parents=True, exist_ok=True)\n",
    "\n",
    "print(\"Setup OK in\", os.getcwd())\n"
   ]
  }
 ],
 "metadata": {
  "language_info": {
   "name": "python"
  }
 },
 "nbformat": 4,
 "nbformat_minor": 5
}
